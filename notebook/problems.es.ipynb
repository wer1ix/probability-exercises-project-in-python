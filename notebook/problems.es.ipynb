{
 "cells": [
  {
   "cell_type": "markdown",
   "id": "a41f3622",
   "metadata": {},
   "source": [
    "# Ejercicios de probabilidad"
   ]
  },
  {
   "cell_type": "markdown",
   "id": "a6bdbd89",
   "metadata": {},
   "source": [
    "## Ejercicio 1 \n",
    "\n",
    "Dos dados se lanzan una vez y se observa el total obtenido. Usa una simulación para encontrar la probabilidad estimada de que la puntuación sea mayor a 7 o un número par. Una simulación es una repetición del mismo experimento multiples veces para observar su comportamiento:\n",
    "\n",
    "- Ejecuta el experimento 1000 veces (lanza 2 dados 1000 veces, y suma el número de ambos dados).\n",
    "- Lleva la cuenta de los números y las veces que la suma fue mayor a 7 o un número par.\n",
    "- Divide el número del paso 2 entre el número de iteraciones(1000)."
   ]
  },
  {
   "cell_type": "code",
   "execution_count": 8,
   "id": "8939d892",
   "metadata": {},
   "outputs": [
    {
     "name": "stdout",
     "output_type": "stream",
     "text": [
      "La probabilidad simulada en 1000 experimentos de que la suma de dos dados fuera mayor o igual a 7 o que fuera un numero par es de: 82.80%\n"
     ]
    }
   ],
   "source": [
    "import random\n",
    "\n",
    "counter = 0\n",
    "for _ in range(1000):\n",
    "    dado1 = random.randint(1,6)\n",
    "    dado2 = random.randint(1,6)\n",
    "\n",
    "    total = dado1 + dado2\n",
    "\n",
    "    if total >= 7 or total % 2 == 0:\n",
    "        counter += 1\n",
    "\n",
    "resultado = counter/1000\n",
    "\n",
    "print(f\"La probabilidad simulada en 1000 experimentos de que la suma de dos dados fuera mayor o igual a 7 o que fuera un numero par es de: {resultado:.2%}\")"
   ]
  },
  {
   "cell_type": "markdown",
   "id": "55732bca",
   "metadata": {},
   "source": [
    "## Ejercicio 2\n",
    "\n",
    "Una caja contiene 10 bolas blancas, 20 bolas rojas y 30 bolas verdes. Si tomamos 5 bolas de la caja reemplazándolas (tomando una bola, anotando el color y luego regresandola a la caja). Queremos saber la probabilidad de:\n",
    "\n",
    "1. Tomar 3 blancas y 2 rojas.\n",
    "2. Tomar todas del mismo color.\n",
    "\n",
    "Ejecuta el experimento 1000 veces y calcula las probabilidades que mencionadas."
   ]
  },
  {
   "cell_type": "code",
   "execution_count": 10,
   "id": "23244d20",
   "metadata": {},
   "outputs": [
    {
     "name": "stdout",
     "output_type": "stream",
     "text": [
      "La probabilidad simulada en 1000 experimentos de obtener los eventos buscados en mi caja de pelotas es de: 4.60%\n"
     ]
    }
   ],
   "source": [
    "# yo definiré mi ball box como 1 - blanco 2 - rojo y 3 igual a verde\n",
    "ball_box = [1]*10+[2]*20+[3]*30\n",
    "ball_box\n",
    "            \n",
    "# TODO\n",
    "counter = 0\n",
    "\n",
    "for _ in range(1000):\n",
    "    # tomo una muestra de 5 pelotas\n",
    "    muestra = random.sample(ball_box,5)\n",
    "    # cuento mi numero de bolas blancas y bolas rojas\n",
    "    blancos = muestra.count(1)\n",
    "    rojos = muestra.count(2)\n",
    "    # si mi muestra tiene 3 blancas y 2 rojas\n",
    "    if (blancos == 3 and rojos == 2) or len(set(muestra)) == 1:\n",
    "        counter += 1\n",
    "\n",
    "resultado = counter/1000\n",
    "\n",
    "print(f\"La probabilidad simulada en 1000 experimentos de obtener los eventos buscados en mi caja de pelotas es de: {resultado:.2%}\")"
   ]
  },
  {
   "cell_type": "code",
   "execution_count": null,
   "id": "ee51b217",
   "metadata": {},
   "outputs": [],
   "source": []
  }
 ],
 "metadata": {
  "kernelspec": {
   "display_name": "Python 3",
   "language": "python",
   "name": "python3"
  },
  "language_info": {
   "codemirror_mode": {
    "name": "ipython",
    "version": 3
   },
   "file_extension": ".py",
   "mimetype": "text/x-python",
   "name": "python",
   "nbconvert_exporter": "python",
   "pygments_lexer": "ipython3",
   "version": "3.11.4"
  }
 },
 "nbformat": 4,
 "nbformat_minor": 5
}
